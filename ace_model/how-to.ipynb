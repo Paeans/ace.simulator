{
 "cells": [
  {
   "cell_type": "code",
   "execution_count": 1,
   "metadata": {},
   "outputs": [],
   "source": [
    "from acemodel import AceModel, Children\n",
    "from acemodel import default_mtd, corr_rand_mtd\n",
    "from spew_data.spew import * "
   ]
  },
  {
   "cell_type": "code",
   "execution_count": 2,
   "metadata": {},
   "outputs": [],
   "source": [
    "import brfss\n",
    "from brfss import bfs_data"
   ]
  },
  {
   "cell_type": "code",
   "execution_count": 3,
   "metadata": {},
   "outputs": [],
   "source": [
    "# scbrfss = bfs_data('./brfss/SCBRFSS.csv')"
   ]
  },
  {
   "cell_type": "code",
   "execution_count": 4,
   "metadata": {},
   "outputs": [
    {
     "data": {
      "text/plain": [
       "90314"
      ]
     },
     "execution_count": 4,
     "metadata": {},
     "output_type": "execute_result"
    }
   ],
   "source": [
    "data_prex = './spew_data/2010_ver1_45079_synth_'\n",
    "cdl_data = cdn_data(data_prex)\n",
    "len(cdl_data)"
   ]
  },
  {
   "cell_type": "code",
   "execution_count": 5,
   "metadata": {},
   "outputs": [],
   "source": [
    "def simulate_stack(mtd, step_num = 1000, display = False):    \n",
    "\n",
    "    acemodel_list = [\n",
    "        AceModel(cdl_data[\n",
    "            (cdl_data[['_RACE_G1', '_INCOMG']] == [r,i]).all(axis = 1)\n",
    "        ], r, i, step_method = mtd)\n",
    "        for r in list(brfss.race_list.keys())[1:]\n",
    "        for i in list(brfss.income_list.keys())[1:]\n",
    "                    ]\n",
    "    \n",
    "    for i in range(step_num):\n",
    "        [acemodel.step() for acemodel in acemodel_list]\n",
    "\n",
    "    result = [res for res in [\n",
    "            acemodel.datacollector.model_vars['Output'][-1]\n",
    "            for acemodel in acemodel_list]\n",
    "                if len(res) > 0\n",
    "            ]\n",
    "    \n",
    "    result_df = pd.concat(result, axis = 0, \n",
    "                          ignore_index = True)\n",
    "    \n",
    "    if not display:\n",
    "        return result_df\n",
    "    \n",
    "    result_bfs = bfs_data(result_df)\n",
    "    \n",
    "    for r in list(brfss.race_list.keys())[1:]:\n",
    "        for i in list(brfss.income_list.keys())[1:]:\n",
    "            print('RACE: ' + str(brfss.race_list[r]) + ' INCOME: ' + str(brfss.income_list[i]))\n",
    "            display(result_bfs.get_corr_mat(r,i))\n",
    "    return result_df"
   ]
  },
  {
   "cell_type": "code",
   "execution_count": 6,
   "metadata": {},
   "outputs": [],
   "source": [
    "stack_model = AceModel(cdl_data[\n",
    "    (cdl_data[['_RACE_G1', '_INCOMG']] == [1,1]).all(axis = 1)\n",
    "], 1, 1, step_method = default_mtd)"
   ]
  },
  {
   "cell_type": "code",
   "execution_count": 7,
   "metadata": {},
   "outputs": [
    {
     "ename": "NameError",
     "evalue": "name 'corr_model' is not defined",
     "output_type": "error",
     "traceback": [
      "\u001b[0;31m---------------------------------------------------------------------------\u001b[0m",
      "\u001b[0;31mNameError\u001b[0m                                 Traceback (most recent call last)",
      "\u001b[0;32m<ipython-input-7-a3e69668a7af>\u001b[0m in \u001b[0;36m<module>\u001b[0;34m\u001b[0m\n\u001b[1;32m      1\u001b[0m \u001b[0;32mfor\u001b[0m \u001b[0mi\u001b[0m \u001b[0;32min\u001b[0m \u001b[0mrange\u001b[0m\u001b[0;34m(\u001b[0m\u001b[0;36m100\u001b[0m\u001b[0;34m)\u001b[0m\u001b[0;34m:\u001b[0m\u001b[0;34m\u001b[0m\u001b[0;34m\u001b[0m\u001b[0m\n\u001b[0;32m----> 2\u001b[0;31m     \u001b[0mcorr_model\u001b[0m\u001b[0;34m.\u001b[0m\u001b[0mstep\u001b[0m\u001b[0;34m(\u001b[0m\u001b[0;34m)\u001b[0m\u001b[0;34m\u001b[0m\u001b[0;34m\u001b[0m\u001b[0m\n\u001b[0m\u001b[1;32m      3\u001b[0m \u001b[0;34m\u001b[0m\u001b[0m\n\u001b[1;32m      4\u001b[0m \u001b[0mres\u001b[0m \u001b[0;34m=\u001b[0m \u001b[0mcorr_model\u001b[0m\u001b[0;34m.\u001b[0m\u001b[0mdatacollector\u001b[0m\u001b[0;34m.\u001b[0m\u001b[0mmodel_vars\u001b[0m\u001b[0;34m[\u001b[0m\u001b[0;34m'Output'\u001b[0m\u001b[0;34m]\u001b[0m\u001b[0;34m[\u001b[0m\u001b[0;34m-\u001b[0m\u001b[0;36m1\u001b[0m\u001b[0;34m]\u001b[0m\u001b[0;34m;\u001b[0m \u001b[0mres\u001b[0m\u001b[0;34m\u001b[0m\u001b[0;34m\u001b[0m\u001b[0m\n",
      "\u001b[0;31mNameError\u001b[0m: name 'corr_model' is not defined"
     ]
    }
   ],
   "source": [
    "for i in range(100):\n",
    "    stack_model.step()\n",
    "    \n",
    "res = stack_model.datacollector.model_vars['Output'][-1]; res"
   ]
  },
  {
   "cell_type": "code",
   "execution_count": null,
   "metadata": {},
   "outputs": [],
   "source": [
    "bfs_data(res).get_prop_mat(1,1)['pr']"
   ]
  },
  {
   "cell_type": "code",
   "execution_count": null,
   "metadata": {},
   "outputs": [],
   "source": [
    "bfs_data(res).get_corr_mat(1,1)"
   ]
  },
  {
   "cell_type": "code",
   "execution_count": null,
   "metadata": {},
   "outputs": [],
   "source": [
    "corr_model = AceModel(cdl_data[\n",
    "    (cdl_data[['_RACE_G1', '_INCOMG']] == [1,1]).all(axis = 1)\n",
    "], 1, 1, step_method = corr_rand_mtd)"
   ]
  },
  {
   "cell_type": "code",
   "execution_count": null,
   "metadata": {},
   "outputs": [],
   "source": [
    "for i in range(100):\n",
    "    corr_model.step()\n",
    "    \n",
    "res = corr_model.datacollector.model_vars['Output'][-1]; res"
   ]
  },
  {
   "cell_type": "code",
   "execution_count": null,
   "metadata": {},
   "outputs": [],
   "source": [
    "bfs_data(res).get_prop_mat(1,1)['pr']"
   ]
  },
  {
   "cell_type": "code",
   "execution_count": null,
   "metadata": {},
   "outputs": [],
   "source": [
    "bfs_data(res).get_corr_mat(1,1)"
   ]
  },
  {
   "cell_type": "code",
   "execution_count": null,
   "metadata": {},
   "outputs": [],
   "source": [
    "default_result = simulate_stack(mtd = default_mtd, display = False)"
   ]
  },
  {
   "cell_type": "code",
   "execution_count": null,
   "metadata": {},
   "outputs": [],
   "source": [
    "corr_result = simulate_stack(mtd = corr_rand_mtd, display = False)"
   ]
  },
  {
   "cell_type": "code",
   "execution_count": null,
   "metadata": {},
   "outputs": [],
   "source": []
  }
 ],
 "metadata": {
  "kernelspec": {
   "display_name": "Python 3",
   "language": "python",
   "name": "python3"
  },
  "language_info": {
   "codemirror_mode": {
    "name": "ipython",
    "version": 3
   },
   "file_extension": ".py",
   "mimetype": "text/x-python",
   "name": "python",
   "nbconvert_exporter": "python",
   "pygments_lexer": "ipython3",
   "version": "3.8.2"
  }
 },
 "nbformat": 4,
 "nbformat_minor": 4
}
