{
 "cells": [
  {
   "cell_type": "code",
   "execution_count": 1,
   "metadata": {},
   "outputs": [],
   "source": [
    "import brfss"
   ]
  },
  {
   "cell_type": "code",
   "execution_count": 3,
   "metadata": {},
   "outputs": [
    {
     "data": {
      "text/plain": [
       "dict_values(['depress', 'alcoabuse', 'drugabuse', 'prison', 'patdivorce', 'phyabuse1', 'phyabuse2', 'verbalabuse', 'sexabuse1', 'sexabuse2', 'sexabuse3', 'foodinsecure'])"
      ]
     },
     "execution_count": 3,
     "metadata": {},
     "output_type": "execute_result"
    }
   ],
   "source": [
    "brfss.ace_list.values()"
   ]
  },
  {
   "cell_type": "code",
   "execution_count": 4,
   "metadata": {},
   "outputs": [
    {
     "data": {
      "text/plain": [
       "{'depress': 0.2,\n",
       " 'alcoabuse': 0.2,\n",
       " 'drugabuse': 0.2,\n",
       " 'prison': 0.2,\n",
       " 'patdivorce': 0.2,\n",
       " 'phyabuse1': 0.2,\n",
       " 'phyabuse2': 0.2,\n",
       " 'verbalabuse': 0.2,\n",
       " 'sexabuse1': 0.2,\n",
       " 'sexabuse2': 0.2,\n",
       " 'sexabuse3': 0.2,\n",
       " 'foodinsecure': 0.2}"
      ]
     },
     "execution_count": 4,
     "metadata": {},
     "output_type": "execute_result"
    }
   ],
   "source": [
    "trans_rate = {ace:0.2 for ace in brfss.ace_list.values()}; trans_rate"
   ]
  },
  {
   "cell_type": "code",
   "execution_count": null,
   "metadata": {},
   "outputs": [],
   "source": []
  }
 ],
 "metadata": {
  "kernelspec": {
   "display_name": "Python 3",
   "language": "python",
   "name": "python3"
  },
  "language_info": {
   "codemirror_mode": {
    "name": "ipython",
    "version": 3
   },
   "file_extension": ".py",
   "mimetype": "text/x-python",
   "name": "python",
   "nbconvert_exporter": "python",
   "pygments_lexer": "ipython3",
   "version": "3.8.2"
  }
 },
 "nbformat": 4,
 "nbformat_minor": 4
}
